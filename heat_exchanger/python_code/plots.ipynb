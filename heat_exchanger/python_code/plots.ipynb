{
 "cells": [
  {
   "cell_type": "code",
   "execution_count": 1,
   "id": "established-senior",
   "metadata": {},
   "outputs": [
    {
     "name": "stderr",
     "output_type": "stream",
     "text": [
      "2023-04-22 18:55:53.179836: I tensorflow/core/platform/cpu_feature_guard.cc:193] This TensorFlow binary is optimized with oneAPI Deep Neural Network Library (oneDNN) to use the following CPU instructions in performance-critical operations:  SSE4.1 SSE4.2 AVX AVX2 FMA\n",
      "To enable them in other operations, rebuild TensorFlow with the appropriate compiler flags.\n"
     ]
    }
   ],
   "source": [
    "import pandas as pd\n",
    "from matplotlib import pyplot as plt\n",
    "import numpy as np\n",
    "import pickle as pkl\n",
    "import matplotlib\n",
    "matplotlib.rc('font', size=14)\n",
    "plt.rc('axes', titlesize=24)\n",
    "from omlt import OmltBlock, OffsetScaling\n",
    "from omlt.io import load_keras_sequential\n",
    "from omlt.neuralnet import FullSpaceSmoothNNFormulation\n",
    "import pyomo.environ as pyo\n",
    "import tensorflow.keras as keras\n",
    "from tensorflow.keras.models import Sequential\n",
    "from tensorflow.keras.layers import Dense\n",
    "from tensorflow.keras.optimizers import Adam\n",
    "from tensorflow.keras.callbacks import ModelCheckpoint"
   ]
  },
  {
   "cell_type": "code",
   "execution_count": 2,
   "id": "front-dimension",
   "metadata": {},
   "outputs": [],
   "source": [
    "def true_optimize_he(T5):\n",
    "    # first, create the Pyomo model\n",
    "    m = pyo.ConcreteModel()\n",
    "    \n",
    "    m.Qc = pyo.Var(domain=pyo.NonNegativeReals, initialize = 0)\n",
    "    m.FH = pyo.Var(domain=pyo.NonNegativeReals, initialize = 0)\n",
    "\n",
    "    # Objective\n",
    "    m.cost = pyo.Objective(expr = 0.01*m.Qc + 4*(m.FH - 1.7)**2, sense = pyo.minimize)\n",
    "\n",
    "    # Constraints\n",
    "    m.con1 = pyo.Constraint(expr = -10 - m.Qc + (T5 - 558)*m.FH + 0.5*m.Qc*m.FH >= 0)\n",
    "    m.con2 = pyo.Constraint(expr = -10 - m.Qc + (T5 - 393)*m.FH >= 0)\n",
    "    m.con3 = pyo.Constraint(expr = -250 - m.Qc + (T5 - 313)*m.FH >= 0)\n",
    "    m.con4 = pyo.Constraint(expr = -250 - m.Qc + (T5 - 323)*m.FH <= 0)\n",
    "    m.con5 = pyo.Constraint(expr = m.Qc >= 0)\n",
    "    m.con6 = pyo.Constraint(expr = m.FH >= 0)\n",
    "\n",
    "    solver = pyo.SolverFactory('baron', executable='~/BARON/baron').solve(m, tee=False)\n",
    "    \n",
    "#     if (solver.solver.status == SolverStatus.ok) and (solver.solver.termination_condition == TerminationCondition.optimal):\n",
    "#         # Do nothing when the solution in optimal and feasible\n",
    "#         print('optimal')\n",
    "#     elif (solver.solver.termination_condition == TerminationCondition.infeasible):\n",
    "#         print('infeasible')\n",
    "#     else:\n",
    "#         print('model did not solve correctly.')\n",
    "#         print(\"Solver Status: \",  solver.solver.status)\n",
    "\n",
    "    return pyo.value(m.Qc)"
   ]
  },
  {
   "cell_type": "code",
   "execution_count": 3,
   "id": "surprised-wildlife",
   "metadata": {},
   "outputs": [],
   "source": [
    "def io_optimize_he(T5):\n",
    "    q =  np.array([[7989.44, -46.6823, 0.0896282, -5.66998e-5], [-7.05223, 1822.63, -6.28128, 0.00540818],\n",
    "                   [-0.613943, -0.00776747, 4.08912e-5, -3.91282e-8], [3.14321, 677.343, -2.28002, 0.00191768]])\n",
    "    p = np.array([[0.6821191553355692,-0.09298581174163523,0.00029942367449063635,-2.3877416262484956e-7],\n",
    "                  [-0.030345502565197538,-14.7853275094872,0.05288867932952292,-4.728529880934358e-5]])       \n",
    "    a = sum(p[0, j]*(T5)**(j) for j in range(4))\n",
    "    b = sum(p[1, j]*(T5)**(j) for j in range(4))\n",
    "    Q = np.empty(4)\n",
    "    for i in range(4):\n",
    "        Q[i] = sum(q[i, j]*(T5)**(j) for j in range(4))\n",
    "\n",
    "    # first, create the Pyomo model\n",
    "    m = pyo.ConcreteModel()\n",
    "    m.Qc = pyo.Var(domain=pyo.NonNegativeReals, initialize = 0)\n",
    "    m.FH = pyo.Var(domain=pyo.NonNegativeReals, initialize = 0)\n",
    "\n",
    "    # Objective\n",
    "    m.cost = pyo.Objective(expr = Q[0]*m.Qc**2 + Q[1]*m.Qc + Q[2]*m.FH**2 + Q[3]*m.FH, sense = pyo.minimize)\n",
    "\n",
    "    # Constraints\n",
    "    m.con1 = pyo.Constraint(expr = -10 - m.Qc + (T5 - 558)*m.FH + a*m.Qc + b*m.FH >= 0)\n",
    "    m.con2 = pyo.Constraint(expr = -10 - m.Qc + (T5 - 393)*m.FH >= 0)\n",
    "    m.con3 = pyo.Constraint(expr = -250 - m.Qc + (T5 - 313)*m.FH >= 0)\n",
    "    m.con4 = pyo.Constraint(expr = -250 - m.Qc + (T5 - 323)*m.FH <= 0)\n",
    "    m.con5 = pyo.Constraint(expr = m.Qc >= 0)\n",
    "    m.con6 = pyo.Constraint(expr = m.FH >= 0)\n",
    "\n",
    "    solver = pyo.SolverFactory('ipopt', executable='ipopt').solve(m, tee=False)\n",
    "    \n",
    "#     if (solver.solver.status == SolverStatus.ok) and (solver.solver.termination_condition == TerminationCondition.optimal):\n",
    "#         # Do nothing when the solution in optimal and feasible\n",
    "#     elif (solver.solver.termination_condition == TerminationCondition.infeasible):\n",
    "#         print('infeasible')\n",
    "#     else:\n",
    "#         print('model did not solve correctly.')\n",
    "#         print(\"Solver Status: \",  solver.solver.status)\n",
    "\n",
    "    return pyo.value(m.Qc)"
   ]
  },
  {
   "cell_type": "code",
   "execution_count": 8,
   "id": "confused-fluid",
   "metadata": {},
   "outputs": [],
   "source": [
    "f = open('bilinear_nn_sigmoid_data_rescaled.pickle', 'rb')\n",
    "bilinear_nn_data = pkl.load(f)\n",
    "duty_data = np.transpose(bilinear_nn_data['duty']['local_reduced'])\n",
    "duty_data = np.mean(duty_data, axis = 0)"
   ]
  },
  {
   "cell_type": "code",
   "execution_count": 9,
   "id": "altered-portrait",
   "metadata": {},
   "outputs": [
    {
     "data": {
      "text/plain": [
       "array([ 11.6396801 ,  14.24727726,  16.95154877,  19.72212372,\n",
       "        22.52789726,  25.29708672,  27.99338646,  31.21954823,\n",
       "        33.95237274,  37.13268013,  39.52984695,  41.59841309,\n",
       "        53.79271812, 148.83406067, 163.05758209, 157.92568359,\n",
       "       154.14533997, 151.82692566, 149.55254517, 148.13329926])"
      ]
     },
     "execution_count": 9,
     "metadata": {},
     "output_type": "execute_result"
    }
   ],
   "source": [
    "f = open('test_data.pickle', 'rb')\n",
    "full_nn_data = np.transpose(pkl.load(f))\n",
    "full_nn_data = np.mean(full_nn_data, axis = 0)[:20]\n",
    "full_nn_data"
   ]
  },
  {
   "cell_type": "code",
   "execution_count": 10,
   "id": "civic-density",
   "metadata": {},
   "outputs": [],
   "source": [
    "true_solution = np.empty(20)\n",
    "io_solution = np.empty(20)\n",
    "T5 = range(573, 593)\n",
    "for i in range(len(T5)):\n",
    "    true_solution[i] = true_optimize_he(T5[i])\n",
    "    io_solution[i] = io_optimize_he(T5[i])"
   ]
  },
  {
   "cell_type": "code",
   "execution_count": 11,
   "id": "continuing-karen",
   "metadata": {},
   "outputs": [
    {
     "data": {
      "text/plain": [
       "array([ 12.02041047,  14.50130936,  17.04840079,  19.66728299,\n",
       "        22.36439404,  25.1471943 ,  28.02440103,  31.00632937,\n",
       "        34.10533616,  37.3363915 ,  40.7179677 ,  44.27329311,\n",
       "        48.03226741, 167.96550698, 163.66563145, 158.98979483,\n",
       "       153.81780457, 147.9473319 , 140.98386672, 131.90890215])"
      ]
     },
     "execution_count": 11,
     "metadata": {},
     "output_type": "execute_result"
    }
   ],
   "source": [
    "true_solution"
   ]
  },
  {
   "cell_type": "code",
   "execution_count": 12,
   "id": "optical-peripheral",
   "metadata": {},
   "outputs": [
    {
     "data": {
      "text/plain": [
       "array([ 12.0649521 ,  14.51449664,  17.04309434,  19.6553003 ,\n",
       "        22.3560324 ,  25.15061715,  28.04485096,  31.04509135,\n",
       "        34.1584176 ,  37.39298656,  40.75909327,  44.27399012,\n",
       "        48.0141591 , 166.63099464, 162.30064395, 157.66220491,\n",
       "       152.51810743, 146.57727273, 139.37432657, 130.09567512])"
      ]
     },
     "execution_count": 12,
     "metadata": {},
     "output_type": "execute_result"
    }
   ],
   "source": [
    "io_solution"
   ]
  },
  {
   "cell_type": "code",
   "execution_count": 13,
   "id": "informative-sphere",
   "metadata": {},
   "outputs": [
    {
     "data": {
      "text/plain": [
       "array([12.09123945, 14.50047674, 16.98472825, 19.55072115, 22.20618244,\n",
       "       24.96005299, 27.82277021, 30.80663964, 33.92633143, 37.19956816,\n",
       "       40.64809199, 44.29906662, 48.18720023, 52.35808947, 56.87380325,\n",
       "       61.82291405, 67.34034175, 73.65237817, 81.20288394, 91.17905873])"
      ]
     },
     "execution_count": 13,
     "metadata": {},
     "output_type": "execute_result"
    }
   ],
   "source": [
    "duty_data"
   ]
  },
  {
   "cell_type": "code",
   "execution_count": 14,
   "id": "collaborative-training",
   "metadata": {},
   "outputs": [],
   "source": [
    "df = pd.DataFrame({'T5': T5,\n",
    "                   'true': true_solution,\n",
    "                   'io': io_solution,\n",
    "                   'nn': duty_data})\n",
    "df.to_csv('hx_data.csv', index=False)"
   ]
  },
  {
   "cell_type": "code",
   "execution_count": 15,
   "id": "super-swaziland",
   "metadata": {},
   "outputs": [
    {
     "data": {
      "image/png": "[encoded data removed]",
      "text/plain": [
       "<Figure size 640x480 with 1 Axes>"
      ]
     },
     "metadata": {},
     "output_type": "display_data"
    }
   ],
   "source": [
    "plt.figure()\n",
    "plt.scatter(T5, true_solution, c = \"red\", marker = \"*\", s = 60, label = \"true model\", alpha = 1)\n",
    "plt.scatter(T5, io_solution, c = \"blue\", marker = \"o\", s = 18, label = \"decision-focused\", alpha = 0.7)\n",
    "plt.scatter(T5, duty_data, c = \"green\", marker = \"s\", s = 12, label = \"embedded NN\", alpha = 0.6)\n",
    "# plt.scatter(T5, full_nn_data, c = \"black\", marker = \"X\", s = 36, label = \"E2E-NN\", alpha = 0.5)\n",
    "plt.xlabel(\"$T_5$ (K)\", fontsize = 18)\n",
    "plt.ylabel(\"$Q_c$ (kW)\", fontsize = 18)\n",
    "plt.xticks(range(572,595,3))\n",
    "# xticks(c(572:2:594), fontsize = 14)\n",
    "plt.yticks(fontsize = 14)\n",
    "plt.xlim([572, 594])\n",
    "plt.legend(loc = \"best\",  fancybox = True, framealpha = 0.5)\n",
    "# display(gcf())\n",
    "plt.tight_layout()\n",
    "plt.savefig(\"final_comparison_sm_methods.pdf\", transparent = True, bbox_inches = \"tight\")"
   ]
  },
  {
   "cell_type": "code",
   "execution_count": null,
   "id": "excess-single",
   "metadata": {},
   "outputs": [],
   "source": []
  }
 ],
 "metadata": {
  "kernelspec": {
   "display_name": "SurrMod",
   "language": "python",
   "name": "my_tensorflow_env"
  },
  "language_info": {
   "codemirror_mode": {
    "name": "ipython",
    "version": 3
   },
   "file_extension": ".py",
   "mimetype": "text/x-python",
   "name": "python",
   "nbconvert_exporter": "python",
   "pygments_lexer": "ipython3",
   "version": "3.10.6"
  }
 },
 "nbformat": 4,
 "nbformat_minor": 5
}
